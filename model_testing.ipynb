{
 "cells": [
  {
   "cell_type": "code",
   "execution_count": null,
   "metadata": {},
   "outputs": [],
   "source": [
    "import numpy as np\n",
    "import pandas as pd\n",
    "import matplotlib.pyplot as plt\n",
    "import torch as torch\n",
    "import torch.nn as nn"
   ]
  },
  {
   "cell_type": "code",
   "execution_count": null,
   "metadata": {},
   "outputs": [],
   "source": [
    "from google.colab import files # 11mins\n",
    "uploaded = files.upload()"
   ]
  },
  {
   "cell_type": "code",
   "execution_count": null,
   "metadata": {},
   "outputs": [],
   "source": [
    "class Net(nn.Module):\n",
    "    def __init__(self):\n",
    "        super(Net, self).__init__()\n",
    "        self.fc1 = nn.Linear(20, 16)\n",
    "        self.fc2 = nn.Linear(16, 9)\n",
    "        self.fc3 = nn.Linear(9, 3)\n",
    "        self.fc4 = nn.Linear(3, 1)\n",
    "        self.sigmoid = nn.Sigmoid()\n",
    "        self.relu = nn.ReLU()\n",
    "        self.criterion = nn.MSELoss()\n",
    "        self.optimizer = torch.optim.SGD(self.parameters(), lr=0.01)\n",
    "\n",
    "\n",
    "\n",
    "    def forward(self, x1, x2):\n",
    "        # Element-wise subtraction\n",
    "        x = x1 - x2\n",
    "        # Forward pass with shared weights\n",
    "        x = self.sigmoid(self.fc1(x))\n",
    "        x = self.sigmoid(self.fc2(x))\n",
    "        x = self.sigmoid(self.fc3(x))\n",
    "        x = self.fc4(x)\n",
    "        if x < 0.5:\n",
    "            x = 0\n",
    "        else:\n",
    "            x = 1\n",
    "        return x\n",
    "\n",
    "    def loss(self, output, target):\n",
    "        return self.criterion(output, target)\n",
    "\n",
    "    def backward(self, loss):\n",
    "        loss.backward()\n",
    "\n",
    "    def train(self, x1, x2, target):\n",
    "        # Forward pass\n",
    "        output = self.forward(x1, x2)\n",
    "        # Compute the loss\n",
    "        loss = self.loss(output, target)\n",
    "        # Zero the gradients\n",
    "        self.optimizer.zero_grad()\n",
    "        # Backward pass\n",
    "        self.backward(loss)\n",
    "        # Update the weights\n",
    "        self.optimizer.step()\n",
    "        return loss\n",
    "\n"
   ]
  },
  {
   "cell_type": "code",
   "execution_count": null,
   "metadata": {},
   "outputs": [],
   "source": [
    "# IF GPU is availible\n",
    "# model = torch.load(\"trained_sample.pth\")\n",
    "\n",
    "#if no GPU\n",
    "model = torch.load(\"trained_sample.pth\", map_location=torch.device('cpu'))"
   ]
  },
  {
   "cell_type": "markdown",
   "metadata": {},
   "source": [
    "# Data loading"
   ]
  },
  {
   "cell_type": "code",
   "execution_count": null,
   "metadata": {},
   "outputs": [],
   "source": [
    "input_x1 = pd.read_csv('df1_test.csv')\n",
    "input_x2 = pd.read_csv('df2_test.csv')\n",
    "target_y = pd.read_csv('targets_test.csv')\n",
    "\n",
    "# Drop the first column\n",
    "input_x1 = input_x1.drop(input_x1.columns[0], axis=1)\n",
    "input_x2 = input_x2.drop(input_x2.columns[0], axis=1)\n",
    "\n",
    "# Convert to numpy\n",
    "input_x1 = input_x1.to_numpy()\n",
    "input_x2 = input_x2.to_numpy()\n",
    "target_y = target_y.to_numpy()\n",
    "\n",
    "print(input_x1.shape)\n",
    "print(input_x2.shape)\n",
    "print(target_y.shape)\n",
    "\n"
   ]
  },
  {
   "cell_type": "markdown",
   "metadata": {},
   "source": [
    "# Accuracy "
   ]
  },
  {
   "cell_type": "code",
   "execution_count": null,
   "metadata": {},
   "outputs": [],
   "source": [
    "accuracy = 0\n",
    "for i in range(len(input_x1)):\n",
    "    x1 = torch.tensor(input_x1[i], dtype=torch.float32)\n",
    "    x2 = torch.tensor(input_x2[i], dtype=torch.float32)\n",
    "    y = torch.tensor(target_y[i], dtype=torch.float32)\n",
    "    output = model.forward(x1, x2)\n",
    "    if output == y:\n",
    "        accuracy += 1\n",
    "    \n",
    "print(\"Accuracy: \", accuracy/len(input_x1))"
   ]
  }
 ],
 "metadata": {
  "language_info": {
   "name": "python"
  }
 },
 "nbformat": 4,
 "nbformat_minor": 2
}
