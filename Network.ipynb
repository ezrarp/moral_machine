{
 "cells": [
  {
   "cell_type": "code",
   "execution_count": null,
   "metadata": {},
   "outputs": [],
   "source": [
    "import numpy as np\n",
    "import matplotlib.pyplot as plt\n",
    "import pandas as pd"
   ]
  },
  {
   "cell_type": "code",
   "execution_count": 2,
   "metadata": {},
   "outputs": [],
   "source": [
    "class Neuralstructure:\n",
    "    \"\"\"\n",
    "    input_size: number of input nodes\n",
    "    layers: number of hidden layers\n",
    "    nodes_per_layer: number of nodes per hidden layer\n",
    "    output_size: number of output nodes\n",
    "\n",
    "    \"\"\"\n",
    "    def __init__(self, input_size: int , layers: int, nodes_per_layer: list, output_size: int):\n",
    "        self.input_size = input_size\n",
    "        self.layers = layers\n",
    "        self.nodes_per_layer = nodes_per_layer\n",
    "        self.output_size = output_size\n",
    "        self.weights = []\n",
    "        self.bias = []\n",
    "        self.init_weights()\n",
    "        self.init_bias()\n",
    "        if len(nodes_per_layer) != layers:\n",
    "            raise Exception(\"Number of layers and number of nodes per layer must be equal\")\n",
    "        if layers < 1:\n",
    "            raise Exception(\"Number of layers must be greater than 0\")\n",
    "        if input_size < 1:\n",
    "            raise Exception(\"Input size must be greater than 0\")\n",
    "        if output_size < 1:\n",
    "            raise Exception(\"Output size must be greater than 0\")\n",
    "        for i in range(layers):\n",
    "            if nodes_per_layer[i] < 1:\n",
    "                raise Exception(\"Number of nodes per layer must be greater than 0\")\n",
    "    \n",
    "    def init_weights(self):\n",
    "        for i in range(self.layers):\n",
    "            if i == 0:\n",
    "                self.weights.append(np.random.rand(self.input_size, self.nodes_per_layer[i]))\n",
    "            else:\n",
    "                self.weights.append(np.random.rand(self.nodes_per_layer[i-1], self.nodes_per_layer[i]))\n",
    "        self.weights.append(np.random.rand(self.nodes_per_layer[self.layers-1], self.output_size))\n",
    "    \n",
    "    def init_bias(self):\n",
    "        self.bias.append(np.random.rand())\n",
    "    "
   ]
  },
  {
   "cell_type": "code",
   "execution_count": null,
   "metadata": {},
   "outputs": [],
   "source": [
    "class weight:\n",
    "    def __init__(self, weight: float):\n",
    "        self.weight = weight\n",
    "class Layer:\n",
    "    def __init__(self, nodes: list):\n",
    "        self.nodes = nodes\n",
    "\n",
    "class Node:\n",
    "    def __init__(self, weights: list, bias: weight):\n",
    "        self.weights = weights\n",
    "        self.bias = bias"
   ]
  },
  {
   "cell_type": "code",
   "execution_count": null,
   "metadata": {},
   "outputs": [],
   "source": []
  }
 ],
 "metadata": {
  "kernelspec": {
   "display_name": "Python 3",
   "language": "python",
   "name": "python3"
  },
  "language_info": {
   "codemirror_mode": {
    "name": "ipython",
    "version": 3
   },
   "file_extension": ".py",
   "mimetype": "text/x-python",
   "name": "python",
   "nbconvert_exporter": "python",
   "pygments_lexer": "ipython3",
   "version": "3.10.11"
  }
 },
 "nbformat": 4,
 "nbformat_minor": 2
}
