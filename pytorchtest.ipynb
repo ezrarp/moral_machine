{
 "cells": [
  {
   "cell_type": "code",
   "execution_count": 2,
   "metadata": {},
   "outputs": [],
   "source": [
    "import numpy as np\n",
    "import pandas as pd\n",
    "import matplotlib.pyplot as plt\n",
    "import torch as torch\n",
    "import torch.nn as nn"
   ]
  },
  {
   "cell_type": "code",
   "execution_count": 7,
   "metadata": {},
   "outputs": [
    {
     "name": "stdout",
     "output_type": "stream",
     "text": [
      "(350000, 24)\n",
      "(350000, 24)\n",
      "(350000, 2)\n"
     ]
    }
   ],
   "source": [
    "input_x1 = pd.read_csv('df1.csv')\n",
    "input_x2 = pd.read_csv('df2.csv')\n",
    "target_y = pd.read_csv('targets.csv')\n",
    " \n",
    "# Drop the first column\n",
    "input_x1 = input_x1.drop(input_x1.columns[0], axis=1)\n",
    "input_x2 = input_x2.drop(input_x2.columns[0], axis=1)\n",
    "\n",
    "# Convert to numpy\n",
    "input_x1 = input_x1.to_numpy()\n",
    "input_x2 = input_x2.to_numpy()\n",
    "target_y = target_y.to_numpy()\n",
    "\n",
    "print(input_x1.shape)\n",
    "print(input_x2.shape)\n",
    "print(target_y.shape)\n",
    "\n"
   ]
  },
  {
   "cell_type": "code",
   "execution_count": 8,
   "metadata": {},
   "outputs": [],
   "source": [
    "# make a neural network with 1 hidden layer using pytorch\n",
    "class Net(nn.Module):\n",
    "    def __init__(self):\n",
    "        super(Net, self).__init__()\n",
    "        self.fc1 = nn.Linear(24, 16)\n",
    "        self.fc2 = nn.Linear(16, 9)\n",
    "        self.fc3 = nn.Linear(9, 3)\n",
    "        self.fc4 = nn.Linear(3, 1)\n",
    "        self.sigmoid = nn.Sigmoid()\n",
    "        self.relu = nn.ReLU()\n",
    "        self.criterion = nn.MSELoss()\n",
    "        self.optimizer = torch.optim.SGD(self.parameters(), lr=0.01)\n",
    "\n",
    "\n",
    "\n",
    "    def forward(self, x1, x2):\n",
    "        # Element-wise subtraction\n",
    "        x = x1 - x2\n",
    "        # Forward pass with shared weights\n",
    "        x = self.sigmoid(self.fc1(x))\n",
    "        x = self.sigmoid(self.fc2(x))\n",
    "        x = self.sigmoid(self.fc3(x))\n",
    "        x = self.fc4(x)\n",
    "        return x\n",
    "    \n",
    "    def loss(self, output, target):\n",
    "        return self.criterion(output, target)\n",
    "    \n",
    "    def backward(self, loss):\n",
    "        loss.backward()\n",
    "\n",
    "    def train(self, x1, x2, target):\n",
    "        # Forward pass\n",
    "        x1 = torch.tensor(x1, dtype=torch.float32)\n",
    "        x2 = torch.tensor(x2, dtype=torch.float32)\n",
    "        output = self.forward(x1, x2)\n",
    "        # Compute the loss\n",
    "        loss = self.loss(output, target)\n",
    "        # Zero the gradients\n",
    "        self.optimizer.zero_grad()\n",
    "        # Backward pass\n",
    "        self.backward(loss)\n",
    "        # Update the weights\n",
    "        self.optimizer.step()\n",
    "        return loss\n",
    "\n",
    "    "
   ]
  },
  {
   "cell_type": "code",
   "execution_count": 16,
   "metadata": {},
   "outputs": [
    {
     "data": {
      "text/plain": [
       "tensor([0.0011], grad_fn=<ViewBackward0>)"
      ]
     },
     "execution_count": 16,
     "metadata": {},
     "output_type": "execute_result"
    }
   ],
   "source": [
    "# Create the network and test the forward pass\n",
    "net = Net()\n",
    "net.forward(torch.tensor(input_x1[0], dtype=torch.float32), torch.tensor(input_x2[0], dtype=torch.float32))\n"
   ]
  },
  {
   "cell_type": "code",
   "execution_count": 18,
   "metadata": {},
   "outputs": [
    {
     "ename": "TypeError",
     "evalue": "Module.train() takes from 1 to 2 positional arguments but 4 were given",
     "output_type": "error",
     "traceback": [
      "\u001b[1;31m---------------------------------------------------------------------------\u001b[0m",
      "\u001b[1;31mTypeError\u001b[0m                                 Traceback (most recent call last)",
      "Cell \u001b[1;32mIn[18], line 1\u001b[0m\n\u001b[1;32m----> 1\u001b[0m \u001b[43mnet\u001b[49m\u001b[38;5;241;43m.\u001b[39;49m\u001b[43mtrain\u001b[49m\u001b[43m(\u001b[49m\u001b[43minput_x1\u001b[49m\u001b[43m[\u001b[49m\u001b[38;5;241;43m0\u001b[39;49m\u001b[43m]\u001b[49m\u001b[43m,\u001b[49m\u001b[43m \u001b[49m\u001b[43minput_x2\u001b[49m\u001b[43m[\u001b[49m\u001b[38;5;241;43m0\u001b[39;49m\u001b[43m]\u001b[49m\u001b[43m,\u001b[49m\u001b[43m \u001b[49m\u001b[43mtorch\u001b[49m\u001b[38;5;241;43m.\u001b[39;49m\u001b[43mtensor\u001b[49m\u001b[43m(\u001b[49m\u001b[43mtarget_y\u001b[49m\u001b[43m[\u001b[49m\u001b[38;5;241;43m0\u001b[39;49m\u001b[43m]\u001b[49m\u001b[43m,\u001b[49m\u001b[43m \u001b[49m\u001b[43mdtype\u001b[49m\u001b[38;5;241;43m=\u001b[39;49m\u001b[43mtorch\u001b[49m\u001b[38;5;241;43m.\u001b[39;49m\u001b[43mfloat32\u001b[49m\u001b[43m)\u001b[49m\u001b[43m)\u001b[49m \u001b[38;5;66;03m#TODO: fix this we have a problem with the target_y as its a 2d list\u001b[39;00m\n",
      "\u001b[1;31mTypeError\u001b[0m: Module.train() takes from 1 to 2 positional arguments but 4 were given"
     ]
    }
   ],
   "source": [
    "net.train(input_x1[0], input_x2[0], torch.tensor(target_y[0], dtype=torch.float32)) #TODO: fix this we have a problem with the target_y as its a 2d list"
   ]
  }
 ],
 "metadata": {
  "kernelspec": {
   "display_name": "Python 3",
   "language": "python",
   "name": "python3"
  },
  "language_info": {
   "codemirror_mode": {
    "name": "ipython",
    "version": 3
   },
   "file_extension": ".py",
   "mimetype": "text/x-python",
   "name": "python",
   "nbconvert_exporter": "python",
   "pygments_lexer": "ipython3",
   "version": "3.10.11"
  }
 },
 "nbformat": 4,
 "nbformat_minor": 2
}
