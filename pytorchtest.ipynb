{
 "cells": [
  {
   "cell_type": "code",
   "execution_count": 2,
   "metadata": {},
   "outputs": [],
   "source": [
    "import numpy as np\n",
    "import pandas as pd\n",
    "import matplotlib.pyplot as plt\n",
    "import torch as torch\n",
    "import torch.nn as nn"
   ]
  },
  {
   "cell_type": "code",
   "execution_count": 3,
   "metadata": {},
   "outputs": [
    {
     "name": "stdout",
     "output_type": "stream",
     "text": [
      "(250, 24)\n",
      "(250, 24)\n",
      "(250, 1)\n"
     ]
    }
   ],
   "source": [
    "input_x1 = pd.read_csv('df1_smallestdata.csv')\n",
    "input_x2 = pd.read_csv('df2_smallestdata.csv')\n",
    "target_y = pd.read_csv('targets_smallestdata.csv')\n",
    " \n",
    "# Drop the first column\n",
    "input_x1 = input_x1.drop(input_x1.columns[0], axis=1)\n",
    "input_x2 = input_x2.drop(input_x2.columns[0], axis=1)\n",
    "\n",
    "# Convert to numpy\n",
    "input_x1 = input_x1.to_numpy()\n",
    "input_x2 = input_x2.to_numpy()\n",
    "target_y = target_y.to_numpy()\n",
    "\n",
    "print(input_x1.shape)\n",
    "print(input_x2.shape)\n",
    "print(target_y.shape)\n",
    "\n"
   ]
  },
  {
   "cell_type": "code",
   "execution_count": 7,
   "metadata": {},
   "outputs": [],
   "source": [
    "# make a neural network with 1 hidden layer using pytorch\n",
    "class Net(nn.Module):\n",
    "    def __init__(self):\n",
    "        super(Net, self).__init__()\n",
    "        self.fc1 = nn.Linear(24, 16)\n",
    "        self.fc2 = nn.Linear(16, 9)\n",
    "        self.fc3 = nn.Linear(9, 3)\n",
    "        self.fc4 = nn.Linear(3, 1)\n",
    "        self.sigmoid = nn.Sigmoid()\n",
    "        self.relu = nn.ReLU()\n",
    "        self.criterion = nn.MSELoss()\n",
    "        self.optimizer = torch.optim.SGD(self.parameters(), lr=0.01)\n",
    "\n",
    "\n",
    "\n",
    "    def forward(self, x1, x2):\n",
    "        # Element-wise subtraction\n",
    "        x = x1 - x2\n",
    "        # Forward pass with shared weights\n",
    "        x = self.sigmoid(self.fc1(x))\n",
    "        x = self.sigmoid(self.fc2(x))\n",
    "        x = self.sigmoid(self.fc3(x))\n",
    "        x = self.fc4(x)\n",
    "        return x\n",
    "    \n",
    "    def loss(self, output, target):\n",
    "        return self.criterion(output, target)\n",
    "    \n",
    "    def backward(self, loss):\n",
    "        loss.backward()\n",
    "\n",
    "    def train(self, x1, x2, target):\n",
    "        # Forward pass\n",
    "        x1 = torch.tensor(x1, dtype=torch.float32)\n",
    "        x2 = torch.tensor(x2, dtype=torch.float32)\n",
    "        output = self.forward(x1, x2)\n",
    "        # Compute the loss   \n",
    "        target = torch.tensor(target, dtype=torch.float32)\n",
    "        loss = self.loss(output, target)\n",
    "        # Zero the gradients\n",
    "        self.optimizer.zero_grad()\n",
    "        # Backward pass\n",
    "        self.backward(loss)\n",
    "        # Update the weights\n",
    "        self.optimizer.step()\n",
    "        return loss\n",
    "\n",
    "    "
   ]
  },
  {
   "cell_type": "code",
   "execution_count": 8,
   "metadata": {},
   "outputs": [],
   "source": [
    "def setup(input_x1, input_x2, target_y):\n",
    "    # Create a neural network\n",
    "    net = Net()\n",
    "    # Train the network\n",
    "    for i in range(100):\n",
    "        for j in range(len(input_x1)):\n",
    "            net.train(input_x1[j], input_x2[j], target_y[j])\n",
    "    return net"
   ]
  },
  {
   "cell_type": "code",
   "execution_count": 9,
   "metadata": {},
   "outputs": [],
   "source": [
    "network = setup(input_x1, input_x2, target_y) # 2 epochs took 22mins to run"
   ]
  },
  {
   "cell_type": "code",
   "execution_count": 8,
   "metadata": {},
   "outputs": [
    {
     "name": "stdout",
     "output_type": "stream",
     "text": [
      "tensor([-0.0015], grad_fn=<ViewBackward0>)\n",
      "[0 1]\n",
      "\n",
      "\n",
      "tensor([0.9985], grad_fn=<ViewBackward0>)\n",
      "[1 0]\n",
      "\n",
      "\n",
      "tensor([1.0023], grad_fn=<ViewBackward0>)\n",
      "[1 0]\n",
      "\n",
      "\n",
      "tensor([0.9987], grad_fn=<ViewBackward0>)\n",
      "[1 0]\n",
      "\n",
      "\n",
      "tensor([0.0008], grad_fn=<ViewBackward0>)\n",
      "[0 1]\n",
      "\n",
      "\n",
      "tensor([-0.0014], grad_fn=<ViewBackward0>)\n",
      "[0 1]\n",
      "\n",
      "\n",
      "tensor([0.9979], grad_fn=<ViewBackward0>)\n",
      "[1 0]\n",
      "\n",
      "\n",
      "tensor([0.0029], grad_fn=<ViewBackward0>)\n",
      "[0 1]\n",
      "\n",
      "\n",
      "tensor([-0.0013], grad_fn=<ViewBackward0>)\n",
      "[0 1]\n",
      "\n",
      "\n",
      "tensor([0.0021], grad_fn=<ViewBackward0>)\n",
      "[0 1]\n",
      "\n",
      "\n"
     ]
    }
   ],
   "source": [
    "for i in range(10):\n",
    "    print(network.forward(torch.tensor(input_x1[i], dtype=torch.float32), torch.tensor(input_x2[i], dtype=torch.float32)))\n",
    "    print(target_y[i])\n",
    "    print('\\n')\n"
   ]
  }
 ],
 "metadata": {
  "kernelspec": {
   "display_name": "Python 3",
   "language": "python",
   "name": "python3"
  },
  "language_info": {
   "codemirror_mode": {
    "name": "ipython",
    "version": 3
   },
   "file_extension": ".py",
   "mimetype": "text/x-python",
   "name": "python",
   "nbconvert_exporter": "python",
   "pygments_lexer": "ipython3",
   "version": "3.10.11"
  }
 },
 "nbformat": 4,
 "nbformat_minor": 2
}
