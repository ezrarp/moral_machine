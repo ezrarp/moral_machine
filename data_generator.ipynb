{
 "cells": [
  {
   "cell_type": "code",
   "execution_count": 1,
   "metadata": {},
   "outputs": [],
   "source": [
    "import numpy as np\n",
    "import pandas as pd"
   ]
  },
  {
   "cell_type": "code",
   "execution_count": 2,
   "metadata": {},
   "outputs": [
    {
     "name": "stdout",
     "output_type": "stream",
     "text": [
      "Index(['ResponseID', 'CrossingSignal', 'NumberOfCharacters', 'Saved',\n",
      "       'LeftHand', 'Man', 'Woman', 'Pregnant', 'Stroller', 'OldMan',\n",
      "       'OldWoman', 'Boy', 'Girl', 'Homeless', 'LargeWoman', 'LargeMan',\n",
      "       'Criminal', 'MaleExecutive', 'FemaleExecutive', 'FemaleAthlete',\n",
      "       'MaleAthlete', 'FemaleDoctor', 'MaleDoctor', 'Dog', 'Cat'],\n",
      "      dtype='object')\n"
     ]
    }
   ],
   "source": [
    "filename = 'df1_smallestdata.csv'\n",
    "df = pd.read_csv(filename)\n",
    "columns = df.columns\n",
    "print(columns)"
   ]
  }
 ],
 "metadata": {
  "kernelspec": {
   "display_name": "Python 3",
   "language": "python",
   "name": "python3"
  },
  "language_info": {
   "codemirror_mode": {
    "name": "ipython",
    "version": 3
   },
   "file_extension": ".py",
   "mimetype": "text/x-python",
   "name": "python",
   "nbconvert_exporter": "python",
   "pygments_lexer": "ipython3",
   "version": "3.10.11"
  }
 },
 "nbformat": 4,
 "nbformat_minor": 2
}
